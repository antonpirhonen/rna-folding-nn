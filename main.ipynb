{
 "cells": [
  {
   "attachments": {},
   "cell_type": "markdown",
   "metadata": {},
   "source": [
    "# Testing RNA folding with a Neural Network"
   ]
  },
  {
   "cell_type": "code",
   "execution_count": 22,
   "metadata": {},
   "outputs": [],
   "source": [
    "from RNAFoldingNet import RNAFoldingNet\n",
    "import numpy as np\n",
    "import pandas as pd\n",
    "import torch"
   ]
  },
  {
   "cell_type": "code",
   "execution_count": 24,
   "metadata": {},
   "outputs": [],
   "source": [
    "# Read the training data\n",
    "df = pd.read_csv(\"data_with_folded.csv\")\n",
    "\n",
    "# Convert RNA sequence to one-hot encoding\n",
    "nucleotides = ['A', 'C', 'G', 'U']\n",
    "def one_hot_nucl(seq):\n",
    "    x = np.zeros((len(seq), 4))\n",
    "    for i, nuc in enumerate(seq):\n",
    "        x[i, nucleotides.index(nuc)] = 1\n",
    "    return x\n",
    "\n",
    "# Convert the RNA sequence to a one-hot encoding\n",
    "train_data = np.array([one_hot_nucl(seq) for seq in df['seq']])\n",
    "train_data = torch.tensor(train_data.reshape(train_data.shape[0], -1), dtype=torch.float)\n",
    "\n",
    "# Convert the folded sequence to a one-hot encoding\n",
    "hbonds = ['.', '(', ')']\n",
    "def one_hot_hbond(seq):\n",
    "    x = np.zeros((len(seq), 3))\n",
    "    for i, hbond in enumerate(seq):\n",
    "        x[i, hbonds.index(hbond)] = 1\n",
    "    return x\n",
    "\n",
    "train_labels = np.array([one_hot_hbond(seq) for seq in df['folded_seq']])\n",
    "train_labels = torch.tensor(train_labels.reshape(train_labels.shape[0], -1), dtype=torch.float)\n",
    "\n",
    "# Split the data into training and validation sets\n",
    "from sklearn.model_selection import train_test_split\n",
    "\n",
    "train_data, val_data, train_labels, val_labels = train_test_split(train_data, train_labels, test_size=0.2)"
   ]
  },
  {
   "cell_type": "code",
   "execution_count": 26,
   "metadata": {},
   "outputs": [
    {
     "name": "stdout",
     "output_type": "stream",
     "text": [
      "Epoch 1, loss: 0.014\n",
      "Epoch 2, loss: 0.013\n",
      "Epoch 3, loss: 0.013\n",
      "Epoch 4, loss: 0.013\n",
      "Epoch 5, loss: 0.013\n",
      "Epoch 6, loss: 0.013\n",
      "Epoch 7, loss: 0.013\n",
      "Epoch 8, loss: 0.013\n",
      "Epoch 9, loss: 0.013\n",
      "Epoch 10, loss: 0.013\n",
      "Epoch 11, loss: 0.013\n",
      "Epoch 12, loss: 0.013\n",
      "Epoch 13, loss: 0.013\n",
      "Epoch 14, loss: 0.013\n",
      "Epoch 15, loss: 0.013\n",
      "Epoch 16, loss: 0.013\n",
      "Epoch 17, loss: 0.013\n",
      "Epoch 18, loss: 0.013\n",
      "Epoch 19, loss: 0.013\n",
      "Epoch 20, loss: 0.013\n",
      "Epoch 21, loss: 0.012\n",
      "Epoch 22, loss: 0.012\n",
      "Epoch 23, loss: 0.012\n",
      "Epoch 24, loss: 0.012\n",
      "Epoch 25, loss: 0.012\n",
      "Epoch 26, loss: 0.012\n",
      "Epoch 27, loss: 0.012\n",
      "Epoch 28, loss: 0.012\n",
      "Epoch 29, loss: 0.012\n",
      "Epoch 30, loss: 0.012\n",
      "Epoch 31, loss: 0.012\n",
      "Epoch 32, loss: 0.012\n",
      "Epoch 33, loss: 0.012\n",
      "Epoch 34, loss: 0.012\n",
      "Epoch 35, loss: 0.012\n",
      "Epoch 36, loss: 0.012\n",
      "Epoch 37, loss: 0.012\n",
      "Epoch 38, loss: 0.012\n",
      "Epoch 39, loss: 0.012\n",
      "Epoch 40, loss: 0.012\n",
      "Epoch 41, loss: 0.012\n",
      "Epoch 42, loss: 0.012\n",
      "Epoch 43, loss: 0.012\n",
      "Epoch 44, loss: 0.012\n",
      "Epoch 45, loss: 0.012\n",
      "Epoch 46, loss: 0.012\n",
      "Epoch 47, loss: 0.012\n",
      "Epoch 48, loss: 0.012\n",
      "Epoch 49, loss: 0.012\n",
      "Epoch 50, loss: 0.012\n",
      "Epoch 51, loss: 0.012\n",
      "Epoch 52, loss: 0.012\n"
     ]
    },
    {
     "ename": "KeyboardInterrupt",
     "evalue": "",
     "output_type": "error",
     "traceback": [
      "\u001b[0;31m---------------------------------------------------------------------------\u001b[0m",
      "\u001b[0;31mKeyboardInterrupt\u001b[0m                         Traceback (most recent call last)",
      "\u001b[1;32m/home/anton/Desktop/Omat/neural-network/rna-folding/main.ipynb Cell 5\u001b[0m in \u001b[0;36m<cell line: 20>\u001b[0;34m()\u001b[0m\n\u001b[1;32m     <a href='vscode-notebook-cell:/home/anton/Desktop/Omat/neural-network/rna-folding/main.ipynb#W4sZmlsZQ%3D%3D?line=23'>24</a>\u001b[0m labels \u001b[39m=\u001b[39m train_labels[i:i\u001b[39m+\u001b[39mbatch_size]\n\u001b[1;32m     <a href='vscode-notebook-cell:/home/anton/Desktop/Omat/neural-network/rna-folding/main.ipynb#W4sZmlsZQ%3D%3D?line=25'>26</a>\u001b[0m optimizer\u001b[39m.\u001b[39mzero_grad()\n\u001b[0;32m---> <a href='vscode-notebook-cell:/home/anton/Desktop/Omat/neural-network/rna-folding/main.ipynb#W4sZmlsZQ%3D%3D?line=27'>28</a>\u001b[0m outputs \u001b[39m=\u001b[39m net(inputs)\n\u001b[1;32m     <a href='vscode-notebook-cell:/home/anton/Desktop/Omat/neural-network/rna-folding/main.ipynb#W4sZmlsZQ%3D%3D?line=28'>29</a>\u001b[0m loss \u001b[39m=\u001b[39m criterion(outputs, labels)\n\u001b[1;32m     <a href='vscode-notebook-cell:/home/anton/Desktop/Omat/neural-network/rna-folding/main.ipynb#W4sZmlsZQ%3D%3D?line=29'>30</a>\u001b[0m loss\u001b[39m.\u001b[39mbackward()\n",
      "File \u001b[0;32m~/anaconda3/envs/ada/lib/python3.9/site-packages/torch/nn/modules/module.py:1185\u001b[0m, in \u001b[0;36mModule._call_impl\u001b[0;34m(self, *input, **kwargs)\u001b[0m\n\u001b[1;32m   1184\u001b[0m \u001b[39mdef\u001b[39;00m \u001b[39m_call_impl\u001b[39m(\u001b[39mself\u001b[39m, \u001b[39m*\u001b[39m\u001b[39minput\u001b[39m, \u001b[39m*\u001b[39m\u001b[39m*\u001b[39mkwargs):\n\u001b[0;32m-> 1185\u001b[0m     forward_call \u001b[39m=\u001b[39m (\u001b[39mself\u001b[39m\u001b[39m.\u001b[39m_slow_forward \u001b[39mif\u001b[39;00m torch\u001b[39m.\u001b[39;49m_C\u001b[39m.\u001b[39;49m_get_tracing_state() \u001b[39melse\u001b[39;00m \u001b[39mself\u001b[39m\u001b[39m.\u001b[39mforward)\n\u001b[1;32m   1186\u001b[0m     \u001b[39m# If we don't have any hooks, we want to skip the rest of the logic in\u001b[39;00m\n\u001b[1;32m   1187\u001b[0m     \u001b[39m# this function, and just call forward.\u001b[39;00m\n\u001b[1;32m   1188\u001b[0m     \u001b[39mif\u001b[39;00m \u001b[39mnot\u001b[39;00m (\u001b[39mself\u001b[39m\u001b[39m.\u001b[39m_backward_hooks \u001b[39mor\u001b[39;00m \u001b[39mself\u001b[39m\u001b[39m.\u001b[39m_forward_hooks \u001b[39mor\u001b[39;00m \u001b[39mself\u001b[39m\u001b[39m.\u001b[39m_forward_pre_hooks \u001b[39mor\u001b[39;00m _global_backward_hooks\n\u001b[1;32m   1189\u001b[0m             \u001b[39mor\u001b[39;00m _global_forward_hooks \u001b[39mor\u001b[39;00m _global_forward_pre_hooks):\n",
      "\u001b[0;31mKeyboardInterrupt\u001b[0m: "
     ]
    }
   ],
   "source": [
    "N = 30\n",
    "# Create the network\n",
    "input_size = 4*N\n",
    "hidden_size = 128\n",
    "output_size = 3*N\n",
    "\n",
    "net = RNAFoldingNet(input_size, hidden_size, output_size)\n",
    "\n",
    "# Create the optimizer\n",
    "import torch.optim as optim\n",
    "import torch.nn as nn\n",
    "\n",
    "criterion = nn.BCEWithLogitsLoss()\n",
    "optimizer = optim.Adam(net.parameters(), lr=0.001)\n",
    "\n",
    "# Train the network\n",
    "num_epochs = 100\n",
    "batch_size = 32\n",
    "\n",
    "for epoch in range(num_epochs):\n",
    "    running_loss = 0.0\n",
    "    for i in range(0, len(train_data), batch_size):\n",
    "        inputs = train_data[i:i+batch_size]\n",
    "        labels = train_labels[i:i+batch_size]\n",
    "\n",
    "        optimizer.zero_grad()\n",
    "\n",
    "        outputs = net(inputs)\n",
    "        loss = criterion(outputs, labels)\n",
    "        loss.backward()\n",
    "        optimizer.step()\n",
    "\n",
    "        running_loss += loss.item()\n",
    "\n",
    "    print('Epoch %d, loss: %.3f' % (epoch+1, running_loss/len(train_data)))\n"
   ]
  }
 ],
 "metadata": {
  "kernelspec": {
   "display_name": "ada",
   "language": "python",
   "name": "python3"
  },
  "language_info": {
   "codemirror_mode": {
    "name": "ipython",
    "version": 3
   },
   "file_extension": ".py",
   "mimetype": "text/x-python",
   "name": "python",
   "nbconvert_exporter": "python",
   "pygments_lexer": "ipython3",
   "version": "3.9.13"
  },
  "orig_nbformat": 4,
  "vscode": {
   "interpreter": {
    "hash": "d7a0f4dba35c35f3b85e157684be5454902e71fd5484e2f6a7d69f27a520207d"
   }
  }
 },
 "nbformat": 4,
 "nbformat_minor": 2
}
